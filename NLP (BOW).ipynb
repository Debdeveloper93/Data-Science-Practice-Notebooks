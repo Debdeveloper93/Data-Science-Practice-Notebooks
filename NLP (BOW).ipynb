{
 "cells": [
  {
   "cell_type": "code",
   "execution_count": 1,
   "metadata": {},
   "outputs": [
    {
     "name": "stdout",
     "output_type": "stream",
     "text": [
      "Requirement already satisfied: nltk in c:\\users\\delve\\anaconda3\\lib\\site-packages (3.8.1)\n",
      "Requirement already satisfied: click in c:\\users\\delve\\anaconda3\\lib\\site-packages (from nltk) (8.1.7)\n",
      "Requirement already satisfied: joblib in c:\\users\\delve\\anaconda3\\lib\\site-packages (from nltk) (1.4.2)\n",
      "Requirement already satisfied: regex>=2021.8.3 in c:\\users\\delve\\anaconda3\\lib\\site-packages (from nltk) (2023.10.3)\n",
      "Requirement already satisfied: tqdm in c:\\users\\delve\\anaconda3\\lib\\site-packages (from nltk) (4.66.4)\n",
      "Requirement already satisfied: colorama in c:\\users\\delve\\anaconda3\\lib\\site-packages (from click->nltk) (0.4.6)\n"
     ]
    }
   ],
   "source": [
    "!pip install nltk"
   ]
  },
  {
   "cell_type": "code",
   "execution_count": 4,
   "metadata": {},
   "outputs": [],
   "source": [
    "paragraph = \"\"\"You know what? I am sure that you have been doing this with others too, so I guess you needed to hear it from someone, and I guess it's gotta be me. If you're not interested in someone, please have the courage to voice out and not ghost them multiple times, act like you're a queen or some shit. You are clearly disconnected from all of this and if someone has taken the time out to text you, I think a basic courtesy would be to be kind and say hey.. it was great but you know, I am not interested, etc etc. It's sad to see that people still have this level of immaturity and snobbish attitude. It is in my opinion, quite distasteful. I hope you will do better, I can only hope. \n",
    "I wish you luck, be happy!\n",
    "\"\"\""
   ]
  },
  {
   "cell_type": "code",
   "execution_count": 5,
   "metadata": {},
   "outputs": [
    {
     "data": {
      "text/plain": [
       "\"You know what? I am sure that you have been doing this with others too, so I guess you needed to hear it from someone, and I guess it's gotta be me. If you're not interested in someone, please have the courage to voice out and not ghost them multiple times, act like you're a queen or some shit. You are clearly disconnected from all of this and if someone has taken the time out to text you, I think a basic courtesy would be to be kind and say hey.. it was great but you know, I am not interested, etc etc. It's sad to see that people still have this level of immaturity and snobbish attitude. It is in my opinion, quite distasteful. I hope you will do better, I can only hope. \\nI wish you luck, be happy!\\n\""
      ]
     },
     "execution_count": 5,
     "metadata": {},
     "output_type": "execute_result"
    }
   ],
   "source": [
    "paragraph"
   ]
  },
  {
   "cell_type": "code",
   "execution_count": 7,
   "metadata": {},
   "outputs": [],
   "source": [
    "import nltk\n",
    "from nltk import PorterStemmer\n",
    "from nltk.corpus import stopwords\n"
   ]
  },
  {
   "cell_type": "markdown",
   "metadata": {},
   "source": [
    "# Tokenization"
   ]
  },
  {
   "cell_type": "code",
   "execution_count": 10,
   "metadata": {},
   "outputs": [
    {
     "name": "stderr",
     "output_type": "stream",
     "text": [
      "[nltk_data] Downloading package punkt to\n",
      "[nltk_data]     C:\\Users\\delve\\AppData\\Roaming\\nltk_data...\n",
      "[nltk_data]   Package punkt is already up-to-date!\n"
     ]
    },
    {
     "data": {
      "text/plain": [
       "['You know what?',\n",
       " \"I am sure that you have been doing this with others too, so I guess you needed to hear it from someone, and I guess it's gotta be me.\",\n",
       " \"If you're not interested in someone, please have the courage to voice out and not ghost them multiple times, act like you're a queen or some shit.\",\n",
       " 'You are clearly disconnected from all of this and if someone has taken the time out to text you, I think a basic courtesy would be to be kind and say hey.. it was great but you know, I am not interested, etc etc.',\n",
       " \"It's sad to see that people still have this level of immaturity and snobbish attitude.\",\n",
       " 'It is in my opinion, quite distasteful.',\n",
       " 'I hope you will do better, I can only hope.',\n",
       " 'I wish you luck, be happy!']"
      ]
     },
     "execution_count": 10,
     "metadata": {},
     "output_type": "execute_result"
    }
   ],
   "source": [
    "nltk.download(\"punkt\")\n",
    "sentences = nltk.sent_tokenize(paragraph)\n",
    "sentences"
   ]
  },
  {
   "cell_type": "code",
   "execution_count": 11,
   "metadata": {},
   "outputs": [
    {
     "data": {
      "text/plain": [
       "list"
      ]
     },
     "execution_count": 11,
     "metadata": {},
     "output_type": "execute_result"
    }
   ],
   "source": [
    "type(sentences)"
   ]
  },
  {
   "cell_type": "markdown",
   "metadata": {},
   "source": [
    "# Stemming"
   ]
  },
  {
   "cell_type": "code",
   "execution_count": 12,
   "metadata": {},
   "outputs": [
    {
     "data": {
      "text/plain": [
       "'go'"
      ]
     },
     "execution_count": 12,
     "metadata": {},
     "output_type": "execute_result"
    }
   ],
   "source": [
    "stemmer = PorterStemmer()\n",
    "stemmer.stem(\"going\")"
   ]
  },
  {
   "cell_type": "markdown",
   "metadata": {},
   "source": [
    "# Lammetization"
   ]
  },
  {
   "cell_type": "code",
   "execution_count": 22,
   "metadata": {},
   "outputs": [
    {
     "name": "stderr",
     "output_type": "stream",
     "text": [
      "[nltk_data] Downloading package wordnet to\n",
      "[nltk_data]     C:\\Users\\delve\\AppData\\Roaming\\nltk_data...\n",
      "[nltk_data]   Package wordnet is already up-to-date!\n"
     ]
    }
   ],
   "source": [
    "from nltk.stem import WordNetLemmatizer\n",
    "# Download the WordNet resource\n",
    "nltk.download('wordnet')\n",
    "\n",
    "Lemmatizer = WordNetLemmatizer()\n"
   ]
  },
  {
   "cell_type": "code",
   "execution_count": 24,
   "metadata": {},
   "outputs": [
    {
     "data": {
      "text/plain": [
       "'history'"
      ]
     },
     "execution_count": 24,
     "metadata": {},
     "output_type": "execute_result"
    }
   ],
   "source": [
    "Lemmatizer.lemmatize(\"history\") # example"
   ]
  },
  {
   "cell_type": "markdown",
   "metadata": {},
   "source": [
    "# Clean the code"
   ]
  },
  {
   "cell_type": "code",
   "execution_count": 27,
   "metadata": {},
   "outputs": [],
   "source": [
    "import re\n",
    "corpus = []\n",
    "for i in range(len(sentences)):\n",
    "    review = re.sub('[^a-zA-Z]',' ',sentences[i])\n",
    "    review = review.lower()\n",
    "    corpus.append(review)\n"
   ]
  },
  {
   "cell_type": "code",
   "execution_count": 28,
   "metadata": {},
   "outputs": [
    {
     "data": {
      "text/plain": [
       "['you know what ',\n",
       " 'i am sure that you have been doing this with others too  so i guess you needed to hear it from someone  and i guess it s gotta be me ',\n",
       " 'if you re not interested in someone  please have the courage to voice out and not ghost them multiple times  act like you re a queen or some shit ',\n",
       " 'you are clearly disconnected from all of this and if someone has taken the time out to text you  i think a basic courtesy would be to be kind and say hey   it was great but you know  i am not interested  etc etc ',\n",
       " 'it s sad to see that people still have this level of immaturity and snobbish attitude ',\n",
       " 'it is in my opinion  quite distasteful ',\n",
       " 'i hope you will do better  i can only hope ',\n",
       " 'i wish you luck  be happy ']"
      ]
     },
     "execution_count": 28,
     "metadata": {},
     "output_type": "execute_result"
    }
   ],
   "source": [
    "corpus"
   ]
  },
  {
   "cell_type": "code",
   "execution_count": 39,
   "metadata": {},
   "outputs": [
    {
     "name": "stdout",
     "output_type": "stream",
     "text": [
      "know\n",
      "sure\n",
      "other\n",
      "guess\n",
      "need\n",
      "hear\n",
      "someon\n",
      "guess\n",
      "got\n",
      "ta\n",
      "interest\n",
      "someon\n",
      "pleas\n",
      "courag\n",
      "voic\n",
      "ghost\n",
      "multipl\n",
      "time\n",
      "act\n",
      "like\n",
      "queen\n",
      "shit\n",
      "clearli\n",
      "disconnect\n",
      "someon\n",
      "taken\n",
      "time\n",
      "text\n",
      "think\n",
      "basic\n",
      "courtesi\n",
      "would\n",
      "kind\n",
      "say\n",
      "hey\n",
      "great\n",
      "know\n",
      "interest\n",
      "etc\n",
      "etc\n",
      "sad\n",
      "see\n",
      "peopl\n",
      "still\n",
      "level\n",
      "immatur\n",
      "snobbish\n",
      "attitud\n",
      "opinion\n",
      "quit\n",
      "distast\n",
      "hope\n",
      "better\n",
      "hope\n",
      "wish\n",
      "luck\n",
      "happi\n"
     ]
    }
   ],
   "source": [
    "# Stemming\n",
    "\n",
    "for i in corpus:\n",
    "    words = nltk.word_tokenize(i)\n",
    "    for word in words:\n",
    "        if word not in set(stopwords.words(\"english\")):\n",
    "            print(stemmer.stem(word))\n"
   ]
  },
  {
   "cell_type": "code",
   "execution_count": 41,
   "metadata": {},
   "outputs": [
    {
     "name": "stdout",
     "output_type": "stream",
     "text": [
      "know\n",
      "sure\n",
      "others\n",
      "guess\n",
      "needed\n",
      "hear\n",
      "someone\n",
      "guess\n",
      "got\n",
      "ta\n",
      "interested\n",
      "someone\n",
      "please\n",
      "courage\n",
      "voice\n",
      "ghost\n",
      "multiple\n",
      "time\n",
      "act\n",
      "like\n",
      "queen\n",
      "shit\n",
      "clearly\n",
      "disconnected\n",
      "someone\n",
      "taken\n",
      "time\n",
      "text\n",
      "think\n",
      "basic\n",
      "courtesy\n",
      "would\n",
      "kind\n",
      "say\n",
      "hey\n",
      "great\n",
      "know\n",
      "interested\n",
      "etc\n",
      "etc\n",
      "sad\n",
      "see\n",
      "people\n",
      "still\n",
      "level\n",
      "immaturity\n",
      "snobbish\n",
      "attitude\n",
      "opinion\n",
      "quite\n",
      "distasteful\n",
      "hope\n",
      "better\n",
      "hope\n",
      "wish\n",
      "luck\n",
      "happy\n"
     ]
    }
   ],
   "source": [
    "#Lemmatize\n",
    "\n",
    "# Stemming\n",
    "\n",
    "for i in corpus:\n",
    "    words = nltk.word_tokenize(i)\n",
    "    for word in words:\n",
    "        if word not in set(stopwords.words(\"english\")):\n",
    "            print(Lemmatizer.lemmatize(word))\n"
   ]
  },
  {
   "cell_type": "markdown",
   "metadata": {},
   "source": [
    "# Bag of words"
   ]
  },
  {
   "cell_type": "code",
   "execution_count": 56,
   "metadata": {},
   "outputs": [],
   "source": [
    "from sklearn.feature_extraction.text import CountVectorizer\n",
    "CV = CountVectorizer(binary=True)"
   ]
  },
  {
   "cell_type": "code",
   "execution_count": 57,
   "metadata": {},
   "outputs": [],
   "source": [
    "X = CV.fit_transform(corpus)"
   ]
  },
  {
   "cell_type": "code",
   "execution_count": 58,
   "metadata": {},
   "outputs": [
    {
     "data": {
      "text/plain": [
       "{'you': 86,\n",
       " 'know': 38,\n",
       " 'what': 81,\n",
       " 'am': 2,\n",
       " 'sure': 67,\n",
       " 'that': 70,\n",
       " 'have': 27,\n",
       " 'been': 8,\n",
       " 'doing': 18,\n",
       " 'this': 74,\n",
       " 'with': 84,\n",
       " 'others': 51,\n",
       " 'too': 78,\n",
       " 'so': 63,\n",
       " 'guess': 24,\n",
       " 'needed': 45,\n",
       " 'to': 77,\n",
       " 'hear': 28,\n",
       " 'it': 36,\n",
       " 'from': 20,\n",
       " 'someone': 65,\n",
       " 'and': 3,\n",
       " 'gotta': 22,\n",
       " 'be': 7,\n",
       " 'me': 42,\n",
       " 'if': 31,\n",
       " 're': 57,\n",
       " 'not': 46,\n",
       " 'interested': 34,\n",
       " 'in': 33,\n",
       " 'please': 54,\n",
       " 'the': 71,\n",
       " 'courage': 13,\n",
       " 'voice': 79,\n",
       " 'out': 52,\n",
       " 'ghost': 21,\n",
       " 'them': 72,\n",
       " 'multiple': 43,\n",
       " 'times': 76,\n",
       " 'act': 0,\n",
       " 'like': 40,\n",
       " 'queen': 55,\n",
       " 'or': 50,\n",
       " 'some': 64,\n",
       " 'shit': 61,\n",
       " 'are': 4,\n",
       " 'clearly': 12,\n",
       " 'disconnected': 15,\n",
       " 'all': 1,\n",
       " 'of': 47,\n",
       " 'has': 26,\n",
       " 'taken': 68,\n",
       " 'time': 75,\n",
       " 'text': 69,\n",
       " 'think': 73,\n",
       " 'basic': 6,\n",
       " 'courtesy': 14,\n",
       " 'would': 85,\n",
       " 'kind': 37,\n",
       " 'say': 59,\n",
       " 'hey': 29,\n",
       " 'was': 80,\n",
       " 'great': 23,\n",
       " 'but': 10,\n",
       " 'etc': 19,\n",
       " 'sad': 58,\n",
       " 'see': 60,\n",
       " 'people': 53,\n",
       " 'still': 66,\n",
       " 'level': 39,\n",
       " 'immaturity': 32,\n",
       " 'snobbish': 62,\n",
       " 'attitude': 5,\n",
       " 'is': 35,\n",
       " 'my': 44,\n",
       " 'opinion': 49,\n",
       " 'quite': 56,\n",
       " 'distasteful': 16,\n",
       " 'hope': 30,\n",
       " 'will': 82,\n",
       " 'do': 17,\n",
       " 'better': 9,\n",
       " 'can': 11,\n",
       " 'only': 48,\n",
       " 'wish': 83,\n",
       " 'luck': 41,\n",
       " 'happy': 25}"
      ]
     },
     "execution_count": 58,
     "metadata": {},
     "output_type": "execute_result"
    }
   ],
   "source": [
    "CV.vocabulary_"
   ]
  },
  {
   "cell_type": "code",
   "execution_count": 59,
   "metadata": {},
   "outputs": [
    {
     "data": {
      "text/plain": [
       "['you know what ',\n",
       " 'i am sure that you have been doing this with others too  so i guess you needed to hear it from someone  and i guess it s gotta be me ',\n",
       " 'if you re not interested in someone  please have the courage to voice out and not ghost them multiple times  act like you re a queen or some shit ',\n",
       " 'you are clearly disconnected from all of this and if someone has taken the time out to text you  i think a basic courtesy would be to be kind and say hey   it was great but you know  i am not interested  etc etc ',\n",
       " 'it s sad to see that people still have this level of immaturity and snobbish attitude ',\n",
       " 'it is in my opinion  quite distasteful ',\n",
       " 'i hope you will do better  i can only hope ',\n",
       " 'i wish you luck  be happy ']"
      ]
     },
     "execution_count": 59,
     "metadata": {},
     "output_type": "execute_result"
    }
   ],
   "source": [
    "corpus"
   ]
  },
  {
   "cell_type": "code",
   "execution_count": 60,
   "metadata": {},
   "outputs": [
    {
     "data": {
      "text/plain": [
       "'you know what '"
      ]
     },
     "execution_count": 60,
     "metadata": {},
     "output_type": "execute_result"
    }
   ],
   "source": [
    "corpus[0]"
   ]
  },
  {
   "cell_type": "code",
   "execution_count": 61,
   "metadata": {},
   "outputs": [
    {
     "data": {
      "text/plain": [
       "array([[0, 0, 0, 0, 0, 0, 0, 0, 0, 0, 0, 0, 0, 0, 0, 0, 0, 0, 0, 0, 0, 0,\n",
       "        0, 0, 0, 0, 0, 0, 0, 0, 0, 0, 0, 0, 0, 0, 0, 0, 1, 0, 0, 0, 0, 0,\n",
       "        0, 0, 0, 0, 0, 0, 0, 0, 0, 0, 0, 0, 0, 0, 0, 0, 0, 0, 0, 0, 0, 0,\n",
       "        0, 0, 0, 0, 0, 0, 0, 0, 0, 0, 0, 0, 0, 0, 0, 1, 0, 0, 0, 0, 1]],\n",
       "      dtype=int64)"
      ]
     },
     "execution_count": 61,
     "metadata": {},
     "output_type": "execute_result"
    }
   ],
   "source": [
    "X[0].toarray()"
   ]
  },
  {
   "cell_type": "code",
   "execution_count": null,
   "metadata": {},
   "outputs": [],
   "source": []
  }
 ],
 "metadata": {
  "kernelspec": {
   "display_name": "base",
   "language": "python",
   "name": "python3"
  },
  "language_info": {
   "codemirror_mode": {
    "name": "ipython",
    "version": 3
   },
   "file_extension": ".py",
   "mimetype": "text/x-python",
   "name": "python",
   "nbconvert_exporter": "python",
   "pygments_lexer": "ipython3",
   "version": "3.12.4"
  }
 },
 "nbformat": 4,
 "nbformat_minor": 2
}
